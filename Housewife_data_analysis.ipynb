{
 "cells": [
  {
   "cell_type": "markdown",
   "id": "49e29077",
   "metadata": {
    "id": "49e29077"
   },
   "source": [
    "# Final Project of Big Data & Automated Content Analysis\n",
    "## Are Housewives More Depressed? A Text and Visual Emotion Detection Study Based on YouTube\n",
    "## Part 2 Text and Visual Analysis\n",
    "<br>\n",
    "Student: Dongdong Zhu <br>\n",
    "Student number: 13523171"
   ]
  },
  {
   "cell_type": "markdown",
   "id": "Z2RWk0EmGftA",
   "metadata": {
    "id": "Z2RWk0EmGftA"
   },
   "source": [
    "Part 2 aims to explore the emotions related to videos of housewives on YouTube using both text analysis with the BOW approach and visual analysis with the CNN approach. It will take around 30 minutes to run this script."
   ]
  },
  {
   "cell_type": "markdown",
   "id": "470d11c2",
   "metadata": {
    "id": "470d11c2"
   },
   "source": [
    "## 0. Install and import packages"
   ]
  },
  {
   "cell_type": "code",
   "execution_count": 1,
   "id": "b09a0b34",
   "metadata": {
    "colab": {
     "base_uri": "https://localhost:8080/"
    },
    "id": "b09a0b34",
    "outputId": "cc4ea712-1312-4ec3-cfc1-ad7a70e3a796"
   },
   "outputs": [
    {
     "name": "stdout",
     "output_type": "stream",
     "text": [
      "Requirement already satisfied: wordninja in /Users/zhuzhu/anaconda3/lib/python3.10/site-packages (2.0.0)\r\n"
     ]
    }
   ],
   "source": [
    "!pip install wordninja"
   ]
  },
  {
   "cell_type": "code",
   "execution_count": 2,
   "id": "92156927",
   "metadata": {
    "colab": {
     "base_uri": "https://localhost:8080/"
    },
    "id": "92156927",
    "outputId": "944e88c5-5f81-4ffc-a5bd-da90a0e97c93"
   },
   "outputs": [
    {
     "name": "stdout",
     "output_type": "stream",
     "text": [
      "Requirement already satisfied: pytube in /Users/zhuzhu/anaconda3/lib/python3.10/site-packages (15.0.0)\r\n"
     ]
    }
   ],
   "source": [
    "!pip install pytube"
   ]
  },
  {
   "cell_type": "code",
   "execution_count": 3,
   "id": "2f822634",
   "metadata": {
    "id": "2f822634"
   },
   "outputs": [],
   "source": [
    "#import general packages\n",
    "import argparse\n",
    "import csv\n",
    "import json\n",
    "import nltk\n",
    "import numpy as np\n",
    "import os\n",
    "import pandas as pd\n",
    "import re\n",
    "import spacy\n",
    "import string\n",
    "import sys\n",
    "\n",
    "from matplotlib import pyplot as plt\n",
    "from scipy.stats import f_oneway\n",
    "from scipy import stats"
   ]
  },
  {
   "cell_type": "code",
   "execution_count": 4,
   "id": "41f5effa",
   "metadata": {
    "colab": {
     "base_uri": "https://localhost:8080/"
    },
    "id": "41f5effa",
    "outputId": "c5d5e55f-8b6a-47df-dee4-4540acebba4f"
   },
   "outputs": [
    {
     "name": "stderr",
     "output_type": "stream",
     "text": [
      "[nltk_data] Downloading package wordnet to /Users/zhuzhu/nltk_data...\n",
      "[nltk_data]   Package wordnet is already up-to-date!\n",
      "[nltk_data] Downloading package averaged_perceptron_tagger to\n",
      "[nltk_data]     /Users/zhuzhu/nltk_data...\n",
      "[nltk_data]   Package averaged_perceptron_tagger is already up-to-\n",
      "[nltk_data]       date!\n",
      "[nltk_data] Downloading package averaged_perceptron_tagger to\n",
      "[nltk_data]     /Users/zhuzhu/nltk_data...\n",
      "[nltk_data]   Package averaged_perceptron_tagger is already up-to-\n",
      "[nltk_data]       date!\n",
      "[nltk_data] Downloading package stopwords to\n",
      "[nltk_data]     /Users/zhuzhu/nltk_data...\n",
      "[nltk_data]   Package stopwords is already up-to-date!\n",
      "[nltk_data] Downloading package omw-1.4 to /Users/zhuzhu/nltk_data...\n",
      "[nltk_data]   Package omw-1.4 is already up-to-date!\n"
     ]
    },
    {
     "data": {
      "text/plain": [
       "True"
      ]
     },
     "execution_count": 4,
     "metadata": {},
     "output_type": "execute_result"
    }
   ],
   "source": [
    "#import packages for text analysis\n",
    "from glob import glob\n",
    "from sklearn import preprocessing, metrics\n",
    "from sklearn.feature_extraction.text import CountVectorizer,TfidfVectorizer\n",
    "from sklearn.model_selection import (cross_val_score,train_test_split,GridSearchCV)\n",
    "from sklearn.metrics import (confusion_matrix,classification_report,roc_curve,\n",
    "                             auc,cohen_kappa_score,make_scorer,f1_score)\n",
    "from sklearn.naive_bayes import (MultinomialNB, GaussianNB)\n",
    "from sklearn.linear_model import LogisticRegression, LogisticRegressionCV\n",
    "from sklearn.pipeline import Pipeline, make_pipeline\n",
    "from sklearn.svm import SVC\n",
    "\n",
    "import gensim\n",
    "from gensim.models import Word2Vec\n",
    "import gensim.downloader as api\n",
    "from gensim.similarities import SoftCosineSimilarity, SparseTermSimilarityMatrix, WordEmbeddingSimilarityIndex\n",
    "from gensim.corpora import Dictionary\n",
    "\n",
    "import wordninja\n",
    "import nltk\n",
    "from nltk import pos_tag\n",
    "from nltk.corpus import stopwords\n",
    "from nltk.tokenize import word_tokenize\n",
    "from nltk.stem import WordNetLemmatizer\n",
    "nltk.download('wordnet')\n",
    "nltk.download('averaged_perceptron_tagger')\n",
    "nltk.download('averaged_perceptron_tagger')\n",
    "nltk.download('stopwords')\n",
    "nltk.download('omw-1.4')"
   ]
  },
  {
   "cell_type": "code",
   "execution_count": 5,
   "id": "cb9a99d6",
   "metadata": {
    "id": "cb9a99d6"
   },
   "outputs": [
    {
     "name": "stderr",
     "output_type": "stream",
     "text": [
      "2024-05-31 22:42:29.702359: I tensorflow/core/platform/cpu_feature_guard.cc:182] This TensorFlow binary is optimized to use available CPU instructions in performance-critical operations.\n",
      "To enable the following instructions: AVX2 AVX512F AVX512_VNNI FMA, in other operations, rebuild TensorFlow with the appropriate compiler flags.\n"
     ]
    }
   ],
   "source": [
    "#import packages for visual analysis\n",
    "from pytube import YouTube\n",
    "\n",
    "import cv2\n",
    "import time\n",
    "import uuid\n",
    "import tensorflow as tf\n",
    "\n",
    "import keras\n",
    "from keras.models import Sequential\n",
    "from keras.models import save_model\n",
    "from keras.layers import Conv2D, MaxPooling2D, AveragePooling2D\n",
    "from keras.layers import Dense, Activation, Dropout, Flatten\n",
    "from keras.metrics import categorical_accuracy\n",
    "from keras.models import model_from_json\n",
    "from keras.callbacks import ModelCheckpoint\n",
    "from keras.optimizers import *\n",
    "from keras.layers import BatchNormalization\n",
    "from keras import backend as K\n",
    "\n",
    "from keras.preprocessing import image\n",
    "from keras.preprocessing.image import ImageDataGenerator\n",
    "import matplotlib.pyplot as plt\n",
    "from sklearn.model_selection import train_test_split"
   ]
  },
  {
   "cell_type": "code",
   "execution_count": 6,
   "id": "a56a8e8c",
   "metadata": {
    "colab": {
     "base_uri": "https://localhost:8080/"
    },
    "id": "a56a8e8c",
    "outputId": "daa7cbb9-05e0-4a7f-f805-a855914badb6"
   },
   "outputs": [
    {
     "data": {
      "text/plain": [
       "(258, 2)"
      ]
     },
     "execution_count": 6,
     "metadata": {},
     "output_type": "execute_result"
    }
   ],
   "source": [
    "da_housewife = pd.read_csv(\"transcripts_housewife.csv\").dropna()\n",
    "da_housewife = da_housewife[da_housewife[\"transcript\"] != \"None\"]\n",
    "da_housewife.shape"
   ]
  },
  {
   "cell_type": "code",
   "execution_count": 7,
   "id": "8daa98a8",
   "metadata": {
    "colab": {
     "base_uri": "https://localhost:8080/"
    },
    "id": "8daa98a8",
    "outputId": "e0d52664-8cd8-4c94-b68b-30eb1303e489"
   },
   "outputs": [
    {
     "data": {
      "text/plain": [
       "(366, 2)"
      ]
     },
     "execution_count": 7,
     "metadata": {},
     "output_type": "execute_result"
    }
   ],
   "source": [
    "da_career = pd.read_csv(\"transcripts_career.csv\").dropna()\n",
    "da_career = da_career[da_career[\"transcript\"] != \"None\"]\n",
    "da_career.shape"
   ]
  },
  {
   "cell_type": "code",
   "execution_count": 8,
   "id": "f8f2e1c4",
   "metadata": {
    "colab": {
     "base_uri": "https://localhost:8080/"
    },
    "id": "f8f2e1c4",
    "outputId": "16963086-5195-4445-d0f9-4015105c3c6e"
   },
   "outputs": [
    {
     "data": {
      "text/plain": [
       "(196, 2)"
      ]
     },
     "execution_count": 8,
     "metadata": {},
     "output_type": "execute_result"
    }
   ],
   "source": [
    "da_vlog = pd.read_csv(\"transcripts_vlog.csv\").dropna()\n",
    "da_vlog = da_vlog[da_vlog[\"transcript\"] != \"None\"]\n",
    "da_vlog.shape"
   ]
  },
  {
   "cell_type": "code",
   "execution_count": 9,
   "id": "eV2KefdCLyzG",
   "metadata": {
    "colab": {
     "base_uri": "https://localhost:8080/",
     "height": 206
    },
    "id": "eV2KefdCLyzG",
    "outputId": "0b394cb9-fc3e-46b1-d0ab-316495fa6ce9"
   },
   "outputs": [
    {
     "data": {
      "text/html": [
       "<div>\n",
       "<style scoped>\n",
       "    .dataframe tbody tr th:only-of-type {\n",
       "        vertical-align: middle;\n",
       "    }\n",
       "\n",
       "    .dataframe tbody tr th {\n",
       "        vertical-align: top;\n",
       "    }\n",
       "\n",
       "    .dataframe thead th {\n",
       "        text-align: right;\n",
       "    }\n",
       "</style>\n",
       "<table border=\"1\" class=\"dataframe\">\n",
       "  <thead>\n",
       "    <tr style=\"text-align: right;\">\n",
       "      <th></th>\n",
       "      <th>video_id</th>\n",
       "      <th>transcript</th>\n",
       "    </tr>\n",
       "  </thead>\n",
       "  <tbody>\n",
       "    <tr>\n",
       "      <th>7</th>\n",
       "      <td>8zR6SlxBH-E</td>\n",
       "      <td>[Music] super again [Music] for spicy</td>\n",
       "    </tr>\n",
       "    <tr>\n",
       "      <th>8</th>\n",
       "      <td>hDJ6IHRcNM0</td>\n",
       "      <td>again for spicy</td>\n",
       "    </tr>\n",
       "    <tr>\n",
       "      <th>11</th>\n",
       "      <td>8de_2Tbrz14</td>\n",
       "      <td>so if I'm a soccer mom with a spare $200,000 h...</td>\n",
       "    </tr>\n",
       "    <tr>\n",
       "      <th>13</th>\n",
       "      <td>GjP_dtup0CI</td>\n",
       "      <td>[Music] it's the simple things it's the energy</td>\n",
       "    </tr>\n",
       "    <tr>\n",
       "      <th>17</th>\n",
       "      <td>zlynun6HedQ</td>\n",
       "      <td>Good morning It's windy today It's a comfortab...</td>\n",
       "    </tr>\n",
       "  </tbody>\n",
       "</table>\n",
       "</div>"
      ],
      "text/plain": [
       "       video_id                                         transcript\n",
       "7   8zR6SlxBH-E              [Music] super again [Music] for spicy\n",
       "8   hDJ6IHRcNM0                                    again for spicy\n",
       "11  8de_2Tbrz14  so if I'm a soccer mom with a spare $200,000 h...\n",
       "13  GjP_dtup0CI     [Music] it's the simple things it's the energy\n",
       "17  zlynun6HedQ  Good morning It's windy today It's a comfortab..."
      ]
     },
     "execution_count": 9,
     "metadata": {},
     "output_type": "execute_result"
    }
   ],
   "source": [
    "da_housewife.head()"
   ]
  },
  {
   "cell_type": "markdown",
   "id": "fbbd3a6b",
   "metadata": {
    "id": "fbbd3a6b"
   },
   "source": [
    "## 2. Text Analysis with supervised machine learning"
   ]
  },
  {
   "cell_type": "markdown",
   "id": "8ca72fa9",
   "metadata": {
    "id": "8ca72fa9"
   },
   "source": [
    "### 2.1 Pre-process texts"
   ]
  },
  {
   "cell_type": "markdown",
   "id": "43710197",
   "metadata": {
    "id": "43710197"
   },
   "source": [
    "The code in this part was copied from: <br>\n",
    "https://github.com/iremhttp/DepressionDetection/blob/main/main.ipynb"
   ]
  },
  {
   "cell_type": "code",
   "execution_count": 10,
   "id": "790775f3",
   "metadata": {
    "id": "790775f3"
   },
   "outputs": [],
   "source": [
    "#map a POS tag for lemmatization\n",
    "def get_wordnet_pos(tag):\n",
    "    if tag.startswith('J'):\n",
    "        return 'a'  # adjective\n",
    "    elif tag.startswith('V'):\n",
    "        return 'v'  # verb\n",
    "    elif tag.startswith('N'):\n",
    "        return 'n'  # noun\n",
    "    elif tag.startswith('R'):\n",
    "        return 'r'  # adverb\n",
    "    else:\n",
    "        return 'n'  # default to noun if not found"
   ]
  },
  {
   "cell_type": "code",
   "execution_count": 11,
   "id": "22ae0c8a",
   "metadata": {
    "id": "22ae0c8a"
   },
   "outputs": [],
   "source": [
    "#define a function to preprocess texts\n",
    "def preprocess_text(text):\n",
    "    stop_words = set(stopwords.words('english'))\n",
    "    lemmatizer = WordNetLemmatizer()\n",
    "\n",
    "    text = text.lower()\n",
    "\n",
    "    #remove characters and symbols\n",
    "    text = re.sub(r'[^a-zA-Z\\s]', '', text)\n",
    "\n",
    "    contractions = {\n",
    "        \"aint\": \"is not\", \"arent\": \"are not\",\"cant\": \"can not\",\n",
    "        \"cause\": \"because\", \"couldve\": \"could have\", \"couldnt\": \"could not\",\n",
    "        \"didnt\": \"did not\",  \"doesnt\": \"does not\", \"dont\": \"do not\", \"hadnt\": \"had not\",\n",
    "        \"hasnt\": \"has not\", \"havent\": \"have not\", \"hed\": \"he would\", \"hes\": \"he is\",\n",
    "        \"howd\": \"how did\", \"howll\": \"how will\", \"hows\": \"how is\",  \"I'd\": \"I would\",\n",
    "        \"I'd've\": \"I would have\", \"Ill\": \"I will\",  \"Ill've\": \"I will have\",\"Im\": \"I am\", \"I've\": \"I have\",\n",
    "        \"i'd\": \"i would\", \"i'd've\": \"i would have\", \"i'll\": \"i will\", \"im\": \"i am\" , \"i'll've\": \"i will have\",\"i'm\": \"i am\",\n",
    "        \"i've\": \"i have\", \"isnt\": \"is not\", \"it'd\": \"it would\", \"it'd've\": \"it would have\", \"it'll\": \"it will\",\n",
    "        \"it'll've\": \"it will have\",\"it's\": \"it is\", \"let's\": \"let us\", \"ma'am\": \"madam\", \"mayn't\": \"may not\",\n",
    "        \"might've\": \"might have\",\"mightn't\": \"might not\",\"mightn't've\": \"might not have\", \"must've\": \"must have\",\n",
    "        \"mustn't\": \"must not\", \"mustn't've\": \"must not have\", \"needn't\": \"need not\", \"needn't've\": \"need not have\",\n",
    "        \"o'clock\": \"of the clock\", \"oughtn't\": \"ought not\", \"oughtn't've\": \"ought not have\", \"shan't\": \"shall not\",\n",
    "        \"sha'n't\": \"shall not\", \"shan't've\": \"shall not have\", \"she'd\": \"she would\", \"she'd've\": \"she would have\",\n",
    "        \"she'll\": \"she will\", \"she'll've\": \"she will have\", \"she's\": \"she is\", \"should've\": \"should have\",\n",
    "        \"shouldn't\": \"should not\", \"shouldn't've\": \"should not have\", \"so've\": \"so have\",\"so's\": \"so as\",\n",
    "        \"this's\": \"this is\",\"that'd\": \"that would\", \"that'd've\": \"that would have\", \"that's\": \"that is\",\n",
    "        \"there'd\": \"there would\", \"there'd've\": \"there would have\", \"there's\": \"there is\", \"here's\": \"here is\",\n",
    "        \"they'd\": \"they would\", \"they'd've\": \"they would have\", \"they'll\": \"they will\", \"they'll've\": \"they will have\",\n",
    "        \"they're\": \"they are\", \"they've\": \"they have\", \"to've\": \"to have\", \"wasn't\": \"was not\", \"we'd\": \"we would\",\n",
    "        \"we'd've\": \"we would have\", \"we'll\": \"we will\", \"we'll've\": \"we will have\", \"we're\": \"we are\", \"we've\": \"we have\",\n",
    "        \"weren't\": \"were not\", \"what'll\": \"what will\", \"what'll've\": \"what will have\", \"what're\": \"what are\",  \"what's\": \"what is\",\n",
    "        \"what've\": \"what have\", \"when's\": \"when is\", \"when've\": \"when have\", \"where'd\": \"where did\", \"where's\": \"where is\",\n",
    "        \"where've\": \"where have\", \"who'll\": \"who will\", \"who'll've\": \"who will have\", \"who's\": \"who is\", \"who've\": \"who have\",\n",
    "        \"why's\": \"why is\", \"why've\": \"why have\", \"will've\": \"will have\", \"won't\": \"will not\", \"won't've\": \"will not have\",\n",
    "        \"would've\": \"would have\", \"wouldn't\": \"would not\", \"wouldn't've\": \"would not have\", \"y'all\": \"you all\",\n",
    "        \"y'all'd\": \"you all would\",\"y'all'd've\": \"you all would have\",\"y'all're\": \"you all are\",\"y'all've\": \"you all have\",\n",
    "        \"you'd\": \"you would\", \"you'd've\": \"you would have\", \"you'll\": \"you will\", \"you'll've\": \"you will have\",\n",
    "        \"you're\": \"you are\", \"you've\": \"you have\"\n",
    "\n",
    "    }\n",
    "\n",
    "    #replace contractions\n",
    "    for contraction, expanded_form in contractions.items():\n",
    "        text = text.replace(contraction, expanded_form)\n",
    "\n",
    "    #tokenize the text into words using wordninja\n",
    "    tokens = wordninja.split(text)\n",
    "\n",
    "    #perform POS tagging\n",
    "    pos_tags = pos_tag(tokens)\n",
    "\n",
    "    #lemmatization\n",
    "    lemmatized_tokens = []\n",
    "    for word, tag in pos_tags:\n",
    "        pos = get_wordnet_pos(tag)\n",
    "        lemma = lemmatizer.lemmatize(word, pos=pos)\n",
    "        lemmatized_tokens.append(lemma)\n",
    "\n",
    "    #remove stop words\n",
    "    filtered_tokens = [word for word in lemmatized_tokens if word.lower() not in stop_words]\n",
    "\n",
    "     #remove duplicate words\n",
    "    unique_tokens = []\n",
    "    for word in filtered_tokens:\n",
    "        if word not in unique_tokens:\n",
    "            unique_tokens.append(word)\n",
    "\n",
    "    #recreate text from unique tokens\n",
    "    filtered_text = ' '.join(unique_tokens)\n",
    "\n",
    "    return filtered_text"
   ]
  },
  {
   "cell_type": "code",
   "execution_count": 12,
   "id": "678fc44d",
   "metadata": {
    "id": "678fc44d"
   },
   "outputs": [],
   "source": [
    "#preprocess transcripts of each dataset\n",
    "da_housewife[\"processed_transcript\"] = da_housewife[\"transcript\"].apply(preprocess_text)\n",
    "da_career[\"processed_transcript\"] = da_career[\"transcript\"].apply(preprocess_text)\n",
    "da_vlog[\"processed_transcript\"] = da_vlog[\"transcript\"].apply(preprocess_text)"
   ]
  },
  {
   "cell_type": "code",
   "execution_count": 13,
   "id": "t-VnwjV1KHtJ",
   "metadata": {
    "colab": {
     "base_uri": "https://localhost:8080/",
     "height": 206
    },
    "id": "t-VnwjV1KHtJ",
    "outputId": "b9a09fec-3568-46aa-b984-7d76ebe83dcd"
   },
   "outputs": [
    {
     "data": {
      "text/html": [
       "<div>\n",
       "<style scoped>\n",
       "    .dataframe tbody tr th:only-of-type {\n",
       "        vertical-align: middle;\n",
       "    }\n",
       "\n",
       "    .dataframe tbody tr th {\n",
       "        vertical-align: top;\n",
       "    }\n",
       "\n",
       "    .dataframe thead th {\n",
       "        text-align: right;\n",
       "    }\n",
       "</style>\n",
       "<table border=\"1\" class=\"dataframe\">\n",
       "  <thead>\n",
       "    <tr style=\"text-align: right;\">\n",
       "      <th></th>\n",
       "      <th>video_id</th>\n",
       "      <th>transcript</th>\n",
       "      <th>processed_transcript</th>\n",
       "    </tr>\n",
       "  </thead>\n",
       "  <tbody>\n",
       "    <tr>\n",
       "      <th>7</th>\n",
       "      <td>8zR6SlxBH-E</td>\n",
       "      <td>[Music] super again [Music] for spicy</td>\n",
       "      <td>music super spicy</td>\n",
       "    </tr>\n",
       "    <tr>\n",
       "      <th>8</th>\n",
       "      <td>hDJ6IHRcNM0</td>\n",
       "      <td>again for spicy</td>\n",
       "      <td>spicy</td>\n",
       "    </tr>\n",
       "    <tr>\n",
       "      <th>11</th>\n",
       "      <td>8de_2Tbrz14</td>\n",
       "      <td>so if I'm a soccer mom with a spare $200,000 h...</td>\n",
       "      <td>soccer mom spare much trunk space talk probabl...</td>\n",
       "    </tr>\n",
       "    <tr>\n",
       "      <th>13</th>\n",
       "      <td>GjP_dtup0CI</td>\n",
       "      <td>[Music] it's the simple things it's the energy</td>\n",
       "      <td>music si ample thing energy</td>\n",
       "    </tr>\n",
       "    <tr>\n",
       "      <th>17</th>\n",
       "      <td>zlynun6HedQ</td>\n",
       "      <td>Good morning It's windy today It's a comfortab...</td>\n",
       "      <td>good morning windy today comfortable holiday p...</td>\n",
       "    </tr>\n",
       "  </tbody>\n",
       "</table>\n",
       "</div>"
      ],
      "text/plain": [
       "       video_id                                         transcript  \\\n",
       "7   8zR6SlxBH-E              [Music] super again [Music] for spicy   \n",
       "8   hDJ6IHRcNM0                                    again for spicy   \n",
       "11  8de_2Tbrz14  so if I'm a soccer mom with a spare $200,000 h...   \n",
       "13  GjP_dtup0CI     [Music] it's the simple things it's the energy   \n",
       "17  zlynun6HedQ  Good morning It's windy today It's a comfortab...   \n",
       "\n",
       "                                 processed_transcript  \n",
       "7                                   music super spicy  \n",
       "8                                               spicy  \n",
       "11  soccer mom spare much trunk space talk probabl...  \n",
       "13                        music si ample thing energy  \n",
       "17  good morning windy today comfortable holiday p...  "
      ]
     },
     "execution_count": 13,
     "metadata": {},
     "output_type": "execute_result"
    }
   ],
   "source": [
    "da_housewife.head()"
   ]
  },
  {
   "cell_type": "markdown",
   "id": "e7ecc1b1",
   "metadata": {
    "id": "e7ecc1b1"
   },
   "source": [
    "### 2.2 Label data"
   ]
  },
  {
   "cell_type": "markdown",
   "id": "67ccd31d",
   "metadata": {
    "id": "67ccd31d"
   },
   "source": [
    "In this part, a labeled dataset of depression detection was downloaded from: <br>\n",
    "https://github.com/iremhttp/DepressionDetection/blob/main/main.ipynb <br>\n",
    "It contains 27 thousand texts labeled as 1 or 0 to detect whether the texts were depressed or not."
   ]
  },
  {
   "cell_type": "code",
   "execution_count": 14,
   "id": "04772388",
   "metadata": {
    "colab": {
     "base_uri": "https://localhost:8080/"
    },
    "id": "04772388",
    "outputId": "ebd90732-1776-4337-9e3d-3d7b1a85fdd0"
   },
   "outputs": [
    {
     "data": {
      "text/plain": [
       "(27977, 2)"
      ]
     },
     "execution_count": 14,
     "metadata": {},
     "output_type": "execute_result"
    }
   ],
   "source": [
    "labeled = pd.read_csv(\"mental_health.csv\")\n",
    "labeled.shape"
   ]
  },
  {
   "cell_type": "code",
   "execution_count": 15,
   "id": "b630603c",
   "metadata": {
    "colab": {
     "base_uri": "https://localhost:8080/",
     "height": 206
    },
    "id": "b630603c",
    "outputId": "a0f9a5bc-d178-413c-ff30-1488ff7a56b5"
   },
   "outputs": [
    {
     "data": {
      "text/html": [
       "<div>\n",
       "<style scoped>\n",
       "    .dataframe tbody tr th:only-of-type {\n",
       "        vertical-align: middle;\n",
       "    }\n",
       "\n",
       "    .dataframe tbody tr th {\n",
       "        vertical-align: top;\n",
       "    }\n",
       "\n",
       "    .dataframe thead th {\n",
       "        text-align: right;\n",
       "    }\n",
       "</style>\n",
       "<table border=\"1\" class=\"dataframe\">\n",
       "  <thead>\n",
       "    <tr style=\"text-align: right;\">\n",
       "      <th></th>\n",
       "      <th>text</th>\n",
       "      <th>label</th>\n",
       "    </tr>\n",
       "  </thead>\n",
       "  <tbody>\n",
       "    <tr>\n",
       "      <th>0</th>\n",
       "      <td>dear american teens question dutch person hear...</td>\n",
       "      <td>0</td>\n",
       "    </tr>\n",
       "    <tr>\n",
       "      <th>1</th>\n",
       "      <td>nothing look forward lifei dont many reasons k...</td>\n",
       "      <td>1</td>\n",
       "    </tr>\n",
       "    <tr>\n",
       "      <th>2</th>\n",
       "      <td>music recommendations im looking expand playli...</td>\n",
       "      <td>0</td>\n",
       "    </tr>\n",
       "    <tr>\n",
       "      <th>3</th>\n",
       "      <td>im done trying feel betterthe reason im still ...</td>\n",
       "      <td>1</td>\n",
       "    </tr>\n",
       "    <tr>\n",
       "      <th>4</th>\n",
       "      <td>worried  year old girl subject domestic physic...</td>\n",
       "      <td>1</td>\n",
       "    </tr>\n",
       "  </tbody>\n",
       "</table>\n",
       "</div>"
      ],
      "text/plain": [
       "                                                text  label\n",
       "0  dear american teens question dutch person hear...      0\n",
       "1  nothing look forward lifei dont many reasons k...      1\n",
       "2  music recommendations im looking expand playli...      0\n",
       "3  im done trying feel betterthe reason im still ...      1\n",
       "4  worried  year old girl subject domestic physic...      1"
      ]
     },
     "execution_count": 15,
     "metadata": {},
     "output_type": "execute_result"
    }
   ],
   "source": [
    "labeled.head()"
   ]
  },
  {
   "cell_type": "code",
   "execution_count": 16,
   "id": "13ce2999",
   "metadata": {
    "colab": {
     "base_uri": "https://localhost:8080/"
    },
    "id": "13ce2999",
    "outputId": "f45ff163-857c-4d21-bcbb-02a00771039c"
   },
   "outputs": [
    {
     "data": {
      "text/plain": [
       "0    14139\n",
       "1    13838\n",
       "Name: label, dtype: int64"
      ]
     },
     "execution_count": 16,
     "metadata": {},
     "output_type": "execute_result"
    }
   ],
   "source": [
    "labeled[\"label\"].value_counts()"
   ]
  },
  {
   "cell_type": "code",
   "execution_count": 17,
   "id": "883e55fa",
   "metadata": {
    "colab": {
     "base_uri": "https://localhost:8080/",
     "height": 428
    },
    "id": "883e55fa",
    "outputId": "fe3ed3f7-999c-4af2-81dd-11fcb2a3dcd4"
   },
   "outputs": [
    {
     "data": {
      "image/png": "[encoded data removed]",
      "text/plain": [
       "<Figure size 640x480 with 1 Axes>"
      ]
     },
     "metadata": {},
     "output_type": "display_data"
    }
   ],
   "source": [
    "#check if the labeled dataset is balanced or not\n",
    "#the code in this cell was copied from https://github.com/iremhttp/DepressionDetection/blob/main/main.ipynb\n",
    "labels = labeled[\"label\"].value_counts()\n",
    "\n",
    "plt.pie(labels, labels = labels.index, autopct=\"%1.1f%%\", startangle = 140)\n",
    "plt.title(\"Distribution of Labels\")\n",
    "plt.show()"
   ]
  },
  {
   "cell_type": "code",
   "execution_count": 18,
   "id": "4122f836",
   "metadata": {
    "colab": {
     "base_uri": "https://localhost:8080/",
     "height": 206
    },
    "id": "4122f836",
    "outputId": "445e7f30-c00d-4f91-87f3-ec602118a88a"
   },
   "outputs": [
    {
     "data": {
      "text/html": [
       "<div>\n",
       "<style scoped>\n",
       "    .dataframe tbody tr th:only-of-type {\n",
       "        vertical-align: middle;\n",
       "    }\n",
       "\n",
       "    .dataframe tbody tr th {\n",
       "        vertical-align: top;\n",
       "    }\n",
       "\n",
       "    .dataframe thead th {\n",
       "        text-align: right;\n",
       "    }\n",
       "</style>\n",
       "<table border=\"1\" class=\"dataframe\">\n",
       "  <thead>\n",
       "    <tr style=\"text-align: right;\">\n",
       "      <th></th>\n",
       "      <th>text</th>\n",
       "      <th>label</th>\n",
       "      <th>preprocessed_text</th>\n",
       "    </tr>\n",
       "  </thead>\n",
       "  <tbody>\n",
       "    <tr>\n",
       "      <th>0</th>\n",
       "      <td>dear american teens question dutch person hear...</td>\n",
       "      <td>0</td>\n",
       "      <td>dear american teen question dutch person hear ...</td>\n",
       "    </tr>\n",
       "    <tr>\n",
       "      <th>1</th>\n",
       "      <td>nothing look forward lifei dont many reasons k...</td>\n",
       "      <td>1</td>\n",
       "      <td>nothing look forward life many reason keep go ...</td>\n",
       "    </tr>\n",
       "    <tr>\n",
       "      <th>2</th>\n",
       "      <td>music recommendations im looking expand playli...</td>\n",
       "      <td>0</td>\n",
       "      <td>music recommendation look expand playlist usua...</td>\n",
       "    </tr>\n",
       "    <tr>\n",
       "      <th>3</th>\n",
       "      <td>im done trying feel betterthe reason im still ...</td>\n",
       "      <td>1</td>\n",
       "      <td>try feel better reason still alive know mum de...</td>\n",
       "    </tr>\n",
       "    <tr>\n",
       "      <th>4</th>\n",
       "      <td>worried  year old girl subject domestic physic...</td>\n",
       "      <td>1</td>\n",
       "      <td>worried year old girl subject domestic physica...</td>\n",
       "    </tr>\n",
       "  </tbody>\n",
       "</table>\n",
       "</div>"
      ],
      "text/plain": [
       "                                                text  label  \\\n",
       "0  dear american teens question dutch person hear...      0   \n",
       "1  nothing look forward lifei dont many reasons k...      1   \n",
       "2  music recommendations im looking expand playli...      0   \n",
       "3  im done trying feel betterthe reason im still ...      1   \n",
       "4  worried  year old girl subject domestic physic...      1   \n",
       "\n",
       "                                   preprocessed_text  \n",
       "0  dear american teen question dutch person hear ...  \n",
       "1  nothing look forward life many reason keep go ...  \n",
       "2  music recommendation look expand playlist usua...  \n",
       "3  try feel better reason still alive know mum de...  \n",
       "4  worried year old girl subject domestic physica...  "
      ]
     },
     "execution_count": 18,
     "metadata": {},
     "output_type": "execute_result"
    }
   ],
   "source": [
    "#preprocess the labeled texts\n",
    "labeled[\"preprocessed_text\"] = labeled[\"text\"].apply(preprocess_text)\n",
    "labeled.head()"
   ]
  },
  {
   "cell_type": "markdown",
   "id": "8684c682",
   "metadata": {
    "id": "8684c682"
   },
   "source": [
    "### 2.2 Use BOW approach"
   ]
  },
  {
   "cell_type": "markdown",
   "id": "cac6b2b1",
   "metadata": {
    "id": "cac6b2b1"
   },
   "source": [
    "In this part, the BOW approach will be used to do the text analysis.\n",
    "The code in this part follows: <br>\n",
    "https://github.com/uvacw/teaching-bdaca/blob/main/modules/machinelearning-text-exercises/solutions/exercise2-possible-solution.md <br>\n",
    "and https://cssbook.net/content/chapter11.html#sec-bestclassifier ."
   ]
  },
  {
   "cell_type": "code",
   "execution_count": 19,
   "id": "ea824eb4",
   "metadata": {
    "colab": {
     "base_uri": "https://localhost:8080/"
    },
    "id": "ea824eb4",
    "outputId": "7089cb0d-b409-46bf-c251-289387550079"
   },
   "outputs": [
    {
     "name": "stdout",
     "output_type": "stream",
     "text": [
      "We have 16785 train examples, and 5596 validation examples, and 5596 test examples.\n"
     ]
    }
   ],
   "source": [
    "#define a function to get the labeled data\n",
    "def get_labeled_data(fn):\n",
    "    text = fn.iloc[:, 2].tolist()\n",
    "    label = fn.iloc[:, 1].tolist()\n",
    "    return text,label\n",
    "\n",
    "texts, labels = get_labeled_data(labeled)\n",
    "\n",
    "#split the data into trainning, validation and test set\n",
    "X_train_val, X_test, y_train_val, y_test = train_test_split(texts, labels, test_size=0.2, random_state=42)\n",
    "X_train, X_val, y_train, y_val = train_test_split(X_train_val, y_train_val, test_size=0.25, random_state=42)\n",
    "\n",
    "print(f\"We have {len(X_train)} train examples, and {len(X_val)} validation examples, and {len(X_test)} test examples.\")"
   ]
  },
  {
   "cell_type": "code",
   "execution_count": 20,
   "id": "693a2066",
   "metadata": {
    "colab": {
     "base_uri": "https://localhost:8080/"
    },
    "id": "693a2066",
    "outputId": "75717409-a2ef-49c0-c687-ac1e31265771"
   },
   "outputs": [
    {
     "name": "stdout",
     "output_type": "stream",
     "text": [
      "NB with Count\n",
      "              precision    recall  f1-score   support\n",
      "\n",
      "           0       0.96      0.76      0.85      2830\n",
      "           1       0.80      0.97      0.87      2766\n",
      "\n",
      "    accuracy                           0.86      5596\n",
      "   macro avg       0.88      0.86      0.86      5596\n",
      "weighted avg       0.88      0.86      0.86      5596\n",
      "\n",
      "\n",
      "\n",
      "NB with TfIdf\n",
      "              precision    recall  f1-score   support\n",
      "\n",
      "           0       0.95      0.79      0.87      2830\n",
      "           1       0.82      0.96      0.88      2766\n",
      "\n",
      "    accuracy                           0.88      5596\n",
      "   macro avg       0.89      0.88      0.88      5596\n",
      "weighted avg       0.89      0.88      0.88      5596\n",
      "\n",
      "\n",
      "\n",
      "LogReg with Count\n",
      "              precision    recall  f1-score   support\n",
      "\n",
      "           0       0.90      0.93      0.92      2830\n",
      "           1       0.93      0.89      0.91      2766\n",
      "\n",
      "    accuracy                           0.91      5596\n",
      "   macro avg       0.91      0.91      0.91      5596\n",
      "weighted avg       0.91      0.91      0.91      5596\n",
      "\n",
      "\n",
      "\n",
      "LogReg with TfIdf\n",
      "              precision    recall  f1-score   support\n",
      "\n",
      "           0       0.91      0.93      0.92      2830\n",
      "           1       0.93      0.91      0.92      2766\n",
      "\n",
      "    accuracy                           0.92      5596\n",
      "   macro avg       0.92      0.92      0.92      5596\n",
      "weighted avg       0.92      0.92      0.92      5596\n",
      "\n",
      "\n",
      "\n",
      "SVM with Count - linear kernel\n",
      "              precision    recall  f1-score   support\n",
      "\n",
      "           0       0.90      0.91      0.90      2830\n",
      "           1       0.91      0.89      0.90      2766\n",
      "\n",
      "    accuracy                           0.90      5596\n",
      "   macro avg       0.90      0.90      0.90      5596\n",
      "weighted avg       0.90      0.90      0.90      5596\n",
      "\n",
      "\n",
      "\n",
      "SVM with Tfidf - linear kernel\n",
      "              precision    recall  f1-score   support\n",
      "\n",
      "           0       0.92      0.93      0.92      2830\n",
      "           1       0.93      0.91      0.92      2766\n",
      "\n",
      "    accuracy                           0.92      5596\n",
      "   macro avg       0.92      0.92      0.92      5596\n",
      "weighted avg       0.92      0.92      0.92      5596\n",
      "\n",
      "\n",
      "\n"
     ]
    }
   ],
   "source": [
    "#compare the performance of different classifiers with both CountVectorizer and TfidVectorizer\n",
    "configurations = [('NB with Count', CountVectorizer(min_df=5, max_df=.5), MultinomialNB()),\n",
    "                 ('NB with TfIdf', TfidfVectorizer(min_df=5, max_df=.5), MultinomialNB()),\n",
    "                 ('LogReg with Count', CountVectorizer(min_df=5, max_df=.5), LogisticRegression(solver='liblinear')),\n",
    "                 ('LogReg with TfIdf', TfidfVectorizer(min_df=5, max_df=.5), LogisticRegression(solver='liblinear')),\n",
    "                 ('SVM with Count - linear kernel', CountVectorizer(min_df=5, max_df=.5), SVC(kernel='linear')),\n",
    "                 ('SVM with Tfidf - linear kernel', TfidfVectorizer(min_df=5, max_df=.5), SVC(kernel='linear')),\n",
    "                 ]\n",
    "\n",
    "for description, vectorizer, classifier in configurations:\n",
    "    print(description)\n",
    "    pipe = make_pipeline(vectorizer, classifier)\n",
    "    pipe.fit(X_train, y_train)\n",
    "    y_pred = pipe.predict(X_val)\n",
    "    print(metrics.classification_report(y_val, y_pred))\n",
    "    print(\"\\n\")"
   ]
  },
  {
   "cell_type": "code",
   "execution_count": 21,
   "id": "ce91a327",
   "metadata": {
    "colab": {
     "base_uri": "https://localhost:8080/"
    },
    "id": "ce91a327",
    "outputId": "e90433d3-5868-4e19-afb4-fec2149dca16"
   },
   "outputs": [
    {
     "name": "stdout",
     "output_type": "stream",
     "text": [
      "Best parameters for LogReg with TfIdf: {'vectorizer__max_df': 0.5, 'vectorizer__min_df': 5, 'vectorizer__ngram_range': (1, 2)} \n",
      "              precision    recall  f1-score   support\n",
      "\n",
      "           0       0.92      0.93      0.92      2830\n",
      "           1       0.93      0.92      0.92      2766\n",
      "\n",
      "    accuracy                           0.92      5596\n",
      "   macro avg       0.92      0.92      0.92      5596\n",
      "weighted avg       0.92      0.92      0.92      5596\n",
      "\n"
     ]
    }
   ],
   "source": [
    "#use grid search to tune LogReg with TfIdf\n",
    "pipeline_LogRegwithTfIdf = Pipeline(\n",
    "    steps = [\n",
    "         (\"vectorizer\", TfidfVectorizer()),\n",
    "         (\"classifier\", LogisticRegression()),\n",
    "     ]\n",
    " )\n",
    "grid = {\n",
    "     \"vectorizer__ngram_range\": [(1, 1), (1, 2)],\n",
    "     \"vectorizer__max_df\": [0.5, 1.0],\n",
    "     \"vectorizer__min_df\": [0, 5],\n",
    " }\n",
    "search = GridSearchCV(\n",
    "     estimator = pipeline_LogRegwithTfIdf,\n",
    "     n_jobs = -1,\n",
    "     param_grid = grid,\n",
    "     scoring = \"accuracy\",\n",
    "     cv = 5\n",
    " )\n",
    "search.fit(X_train, y_train)\n",
    "\n",
    "print(f\"Best parameters for LogReg with TfIdf: {search.best_params_} \")\n",
    "\n",
    "pred = search.predict(X_val)\n",
    "print(metrics.classification_report(y_val, pred))"
   ]
  },
  {
   "cell_type": "code",
   "execution_count": 22,
   "id": "YabS6nnoArdz",
   "metadata": {
    "colab": {
     "base_uri": "https://localhost:8080/"
    },
    "id": "YabS6nnoArdz",
    "outputId": "49e31142-370c-4b4d-ea8d-cfaeb88a589b"
   },
   "outputs": [
    {
     "name": "stdout",
     "output_type": "stream",
     "text": [
      "              precision    recall  f1-score   support\n",
      "\n",
      "           0       0.91      0.93      0.92      2802\n",
      "           1       0.93      0.91      0.92      2794\n",
      "\n",
      "    accuracy                           0.92      5596\n",
      "   macro avg       0.92      0.92      0.92      5596\n",
      "weighted avg       0.92      0.92      0.92      5596\n",
      "\n"
     ]
    }
   ],
   "source": [
    "#print the final classification report using LogReg with TfIdf as it has the best performance\n",
    "myvec = TfidfVectorizer(min_df=5, max_df=0.5)\n",
    "myclf = LogisticRegression()\n",
    "\n",
    "pipe = make_pipeline(myvec, myclf)\n",
    "pipe.fit(X_train, y_train)\n",
    "y_pred_final = pipe.predict(X_test)\n",
    "print(metrics.classification_report(y_test, y_pred_final))"
   ]
  },
  {
   "cell_type": "code",
   "execution_count": 23,
   "id": "325bfd09",
   "metadata": {
    "id": "325bfd09"
   },
   "outputs": [],
   "source": [
    "#define a function to get unlabeled data\n",
    "def get_unlabeled_data(fi):\n",
    "    return fi.iloc[:, 2].tolist()"
   ]
  },
  {
   "cell_type": "code",
   "execution_count": 24,
   "id": "464fcb9a",
   "metadata": {
    "id": "464fcb9a"
   },
   "outputs": [],
   "source": [
    "#define a function to predict the unlabeled data\n",
    "def get_predictions(df, vectorizer, classifier, X_train, y_train):\n",
    "    unlabeled_data = get_unlabeled_data(df)\n",
    "\n",
    "    X_tr = vectorizer.fit_transform(X_train)\n",
    "    X_unlabeled = vectorizer.transform(unlabeled_data)\n",
    "    classifier.fit(X_tr, y_train)\n",
    "\n",
    "    y_pred = classifier.predict(X_unlabeled)\n",
    "    return y_pred\n",
    "\n",
    "vectorizer = TfidfVectorizer(min_df=5, max_df=0.5)\n",
    "classifier = LogisticRegression()\n",
    "\n",
    "#predict the unlabeled dataset respectively\n",
    "y_pred_housewife = get_predictions(da_housewife, vectorizer, classifier, X_train, y_train)\n",
    "y_pred_career = get_predictions(da_career, vectorizer, classifier, X_train, y_train)\n",
    "y_pred_vlog = get_predictions(da_vlog, vectorizer, classifier, X_train, y_train)"
   ]
  },
  {
   "cell_type": "code",
   "execution_count": 25,
   "id": "332726ba",
   "metadata": {
    "colab": {
     "base_uri": "https://localhost:8080/",
     "height": 206
    },
    "id": "332726ba",
    "outputId": "5f1d5117-838d-4960-86e4-e0321d898503"
   },
   "outputs": [
    {
     "data": {
      "text/html": [
       "<div>\n",
       "<style scoped>\n",
       "    .dataframe tbody tr th:only-of-type {\n",
       "        vertical-align: middle;\n",
       "    }\n",
       "\n",
       "    .dataframe tbody tr th {\n",
       "        vertical-align: top;\n",
       "    }\n",
       "\n",
       "    .dataframe thead th {\n",
       "        text-align: right;\n",
       "    }\n",
       "</style>\n",
       "<table border=\"1\" class=\"dataframe\">\n",
       "  <thead>\n",
       "    <tr style=\"text-align: right;\">\n",
       "      <th></th>\n",
       "      <th>video_id</th>\n",
       "      <th>transcript</th>\n",
       "      <th>processed_transcript</th>\n",
       "      <th>labels</th>\n",
       "    </tr>\n",
       "  </thead>\n",
       "  <tbody>\n",
       "    <tr>\n",
       "      <th>7</th>\n",
       "      <td>8zR6SlxBH-E</td>\n",
       "      <td>[Music] super again [Music] for spicy</td>\n",
       "      <td>music super spicy</td>\n",
       "      <td>0</td>\n",
       "    </tr>\n",
       "    <tr>\n",
       "      <th>8</th>\n",
       "      <td>hDJ6IHRcNM0</td>\n",
       "      <td>again for spicy</td>\n",
       "      <td>spicy</td>\n",
       "      <td>0</td>\n",
       "    </tr>\n",
       "    <tr>\n",
       "      <th>11</th>\n",
       "      <td>8de_2Tbrz14</td>\n",
       "      <td>so if I'm a soccer mom with a spare $200,000 h...</td>\n",
       "      <td>soccer mom spare much trunk space talk probabl...</td>\n",
       "      <td>0</td>\n",
       "    </tr>\n",
       "    <tr>\n",
       "      <th>13</th>\n",
       "      <td>GjP_dtup0CI</td>\n",
       "      <td>[Music] it's the simple things it's the energy</td>\n",
       "      <td>music si ample thing energy</td>\n",
       "      <td>0</td>\n",
       "    </tr>\n",
       "    <tr>\n",
       "      <th>17</th>\n",
       "      <td>zlynun6HedQ</td>\n",
       "      <td>Good morning It's windy today It's a comfortab...</td>\n",
       "      <td>good morning windy today comfortable holiday p...</td>\n",
       "      <td>0</td>\n",
       "    </tr>\n",
       "  </tbody>\n",
       "</table>\n",
       "</div>"
      ],
      "text/plain": [
       "       video_id                                         transcript  \\\n",
       "7   8zR6SlxBH-E              [Music] super again [Music] for spicy   \n",
       "8   hDJ6IHRcNM0                                    again for spicy   \n",
       "11  8de_2Tbrz14  so if I'm a soccer mom with a spare $200,000 h...   \n",
       "13  GjP_dtup0CI     [Music] it's the simple things it's the energy   \n",
       "17  zlynun6HedQ  Good morning It's windy today It's a comfortab...   \n",
       "\n",
       "                                 processed_transcript  labels  \n",
       "7                                   music super spicy       0  \n",
       "8                                               spicy       0  \n",
       "11  soccer mom spare much trunk space talk probabl...       0  \n",
       "13                        music si ample thing energy       0  \n",
       "17  good morning windy today comfortable holiday p...       0  "
      ]
     },
     "execution_count": 25,
     "metadata": {},
     "output_type": "execute_result"
    }
   ],
   "source": [
    "da_housewife[\"labels\"] = y_pred_housewife\n",
    "da_housewife.head()"
   ]
  },
  {
   "cell_type": "code",
   "execution_count": 26,
   "id": "0b31f790",
   "metadata": {
    "colab": {
     "base_uri": "https://localhost:8080/",
     "height": 206
    },
    "id": "0b31f790",
    "outputId": "b200a567-6ccb-4ce0-bf60-c57415003e16"
   },
   "outputs": [
    {
     "data": {
      "text/html": [
       "<div>\n",
       "<style scoped>\n",
       "    .dataframe tbody tr th:only-of-type {\n",
       "        vertical-align: middle;\n",
       "    }\n",
       "\n",
       "    .dataframe tbody tr th {\n",
       "        vertical-align: top;\n",
       "    }\n",
       "\n",
       "    .dataframe thead th {\n",
       "        text-align: right;\n",
       "    }\n",
       "</style>\n",
       "<table border=\"1\" class=\"dataframe\">\n",
       "  <thead>\n",
       "    <tr style=\"text-align: right;\">\n",
       "      <th></th>\n",
       "      <th>video_id</th>\n",
       "      <th>transcript</th>\n",
       "      <th>processed_transcript</th>\n",
       "      <th>labels</th>\n",
       "    </tr>\n",
       "  </thead>\n",
       "  <tbody>\n",
       "    <tr>\n",
       "      <th>1</th>\n",
       "      <td>wUq8s9WyKMU</td>\n",
       "      <td>which is true but are you working towards that...</td>\n",
       "      <td>true work towards something yeah know car drea...</td>\n",
       "      <td>0</td>\n",
       "    </tr>\n",
       "    <tr>\n",
       "      <th>2</th>\n",
       "      <td>FTXelgD2GT0</td>\n",
       "      <td>[Music] uh baby here you are what is going on ...</td>\n",
       "      <td>music uh baby go tell dinner ered like minute ...</td>\n",
       "      <td>1</td>\n",
       "    </tr>\n",
       "    <tr>\n",
       "      <th>3</th>\n",
       "      <td>1gfN87SHBjQ</td>\n",
       "      <td>if you think being busy is just an excuse meet...</td>\n",
       "      <td>think busy excuse meet jenna juggle task smile...</td>\n",
       "      <td>0</td>\n",
       "    </tr>\n",
       "    <tr>\n",
       "      <th>4</th>\n",
       "      <td>VItmkAYYA4o</td>\n",
       "      <td>this message is for everyone who believes that...</td>\n",
       "      <td>message everyone believe manager ruin life cou...</td>\n",
       "      <td>1</td>\n",
       "    </tr>\n",
       "    <tr>\n",
       "      <th>5</th>\n",
       "      <td>-Rlv7iKAffM</td>\n",
       "      <td>I do think that there are some women who just ...</td>\n",
       "      <td>think woman want work option c uz mean somebod...</td>\n",
       "      <td>1</td>\n",
       "    </tr>\n",
       "  </tbody>\n",
       "</table>\n",
       "</div>"
      ],
      "text/plain": [
       "      video_id                                         transcript  \\\n",
       "1  wUq8s9WyKMU  which is true but are you working towards that...   \n",
       "2  FTXelgD2GT0  [Music] uh baby here you are what is going on ...   \n",
       "3  1gfN87SHBjQ  if you think being busy is just an excuse meet...   \n",
       "4  VItmkAYYA4o  this message is for everyone who believes that...   \n",
       "5  -Rlv7iKAffM  I do think that there are some women who just ...   \n",
       "\n",
       "                                processed_transcript  labels  \n",
       "1  true work towards something yeah know car drea...       0  \n",
       "2  music uh baby go tell dinner ered like minute ...       1  \n",
       "3  think busy excuse meet jenna juggle task smile...       0  \n",
       "4  message everyone believe manager ruin life cou...       1  \n",
       "5  think woman want work option c uz mean somebod...       1  "
      ]
     },
     "execution_count": 26,
     "metadata": {},
     "output_type": "execute_result"
    }
   ],
   "source": [
    "da_career[\"labels\"] = y_pred_career\n",
    "da_career.head()"
   ]
  },
  {
   "cell_type": "code",
   "execution_count": 27,
   "id": "58f9a78d",
   "metadata": {
    "colab": {
     "base_uri": "https://localhost:8080/",
     "height": 206
    },
    "id": "58f9a78d",
    "outputId": "49c0e581-cc0a-46d5-9ab6-923851e04eaa"
   },
   "outputs": [
    {
     "data": {
      "text/html": [
       "<div>\n",
       "<style scoped>\n",
       "    .dataframe tbody tr th:only-of-type {\n",
       "        vertical-align: middle;\n",
       "    }\n",
       "\n",
       "    .dataframe tbody tr th {\n",
       "        vertical-align: top;\n",
       "    }\n",
       "\n",
       "    .dataframe thead th {\n",
       "        text-align: right;\n",
       "    }\n",
       "</style>\n",
       "<table border=\"1\" class=\"dataframe\">\n",
       "  <thead>\n",
       "    <tr style=\"text-align: right;\">\n",
       "      <th></th>\n",
       "      <th>video_id</th>\n",
       "      <th>transcript</th>\n",
       "      <th>processed_transcript</th>\n",
       "      <th>labels</th>\n",
       "    </tr>\n",
       "  </thead>\n",
       "  <tbody>\n",
       "    <tr>\n",
       "      <th>10</th>\n",
       "      <td>_kS57AF8C5M</td>\n",
       "      <td>My study abroad is finally over and I am retur...</td>\n",
       "      <td>study abroad finally return japan first ti yea...</td>\n",
       "      <td>1</td>\n",
       "    </tr>\n",
       "    <tr>\n",
       "      <th>26</th>\n",
       "      <td>qfnf3S7JyVA</td>\n",
       "      <td>what's up boss how Kev yes how you do I just g...</td>\n",
       "      <td>bos kev yes get fw jersey boy adam aka cowboy ...</td>\n",
       "      <td>0</td>\n",
       "    </tr>\n",
       "    <tr>\n",
       "      <th>29</th>\n",
       "      <td>5y5c7PvFJ-A</td>\n",
       "      <td>all right I just made the craziest fold sha De...</td>\n",
       "      <td>right make crazy fold sha dee say bad ever see...</td>\n",
       "      <td>0</td>\n",
       "    </tr>\n",
       "    <tr>\n",
       "      <th>43</th>\n",
       "      <td>6r_39Sng3kg</td>\n",
       "      <td>Good morning, everyone. Welcome back to my hom...</td>\n",
       "      <td>good morning everyone welcome back home v log ...</td>\n",
       "      <td>0</td>\n",
       "    </tr>\n",
       "    <tr>\n",
       "      <th>55</th>\n",
       "      <td>hLZaxrz2ePA</td>\n",
       "      <td>hey it's SM back on YouTube video and as y see...</td>\n",
       "      <td>hey sm back youtube video see title today get ...</td>\n",
       "      <td>0</td>\n",
       "    </tr>\n",
       "  </tbody>\n",
       "</table>\n",
       "</div>"
      ],
      "text/plain": [
       "       video_id                                         transcript  \\\n",
       "10  _kS57AF8C5M  My study abroad is finally over and I am retur...   \n",
       "26  qfnf3S7JyVA  what's up boss how Kev yes how you do I just g...   \n",
       "29  5y5c7PvFJ-A  all right I just made the craziest fold sha De...   \n",
       "43  6r_39Sng3kg  Good morning, everyone. Welcome back to my hom...   \n",
       "55  hLZaxrz2ePA  hey it's SM back on YouTube video and as y see...   \n",
       "\n",
       "                                 processed_transcript  labels  \n",
       "10  study abroad finally return japan first ti yea...       1  \n",
       "26  bos kev yes get fw jersey boy adam aka cowboy ...       0  \n",
       "29  right make crazy fold sha dee say bad ever see...       0  \n",
       "43  good morning everyone welcome back home v log ...       0  \n",
       "55  hey sm back youtube video see title today get ...       0  "
      ]
     },
     "execution_count": 27,
     "metadata": {},
     "output_type": "execute_result"
    }
   ],
   "source": [
    "da_vlog[\"labels\"] = y_pred_vlog\n",
    "da_vlog.head()"
   ]
  },
  {
   "cell_type": "code",
   "execution_count": 28,
   "id": "8b932c36",
   "metadata": {
    "id": "8b932c36"
   },
   "outputs": [],
   "source": [
    "#save the labeled datasets respectively\n",
    "da_housewife.to_csv(\"predictions_housewife.csv\", index = False)\n",
    "da_career.to_csv(\"predictions_career.csv\", index = False)\n",
    "da_vlog.to_csv(\"predictions_vlog.csv\", index = False)"
   ]
  },
  {
   "cell_type": "markdown",
   "id": "b9e7519a",
   "metadata": {
    "id": "b9e7519a"
   },
   "source": [
    "### 2.3 Data analysis"
   ]
  },
  {
   "cell_type": "markdown",
   "id": "6dac3aac",
   "metadata": {
    "id": "6dac3aac"
   },
   "source": [
    "In this part, a one-way ANOVA test was conducted.\n",
    "The null hypothesis is that the levels of depression detection among the group of housewives, career woman and regular vlogs are equal."
   ]
  },
  {
   "cell_type": "code",
   "execution_count": 29,
   "id": "a45c06dd",
   "metadata": {
    "colab": {
     "base_uri": "https://localhost:8080/"
    },
    "id": "a45c06dd",
    "outputId": "68f398aa-b929-4343-a337-174c3b1fcc96"
   },
   "outputs": [
    {
     "data": {
      "text/plain": [
       "0    216\n",
       "1     42\n",
       "Name: labels, dtype: int64"
      ]
     },
     "execution_count": 29,
     "metadata": {},
     "output_type": "execute_result"
    }
   ],
   "source": [
    "da_housewife[\"labels\"].value_counts()"
   ]
  },
  {
   "cell_type": "code",
   "execution_count": 30,
   "id": "b833a12c",
   "metadata": {
    "colab": {
     "base_uri": "https://localhost:8080/"
    },
    "id": "b833a12c",
    "outputId": "1690c7e8-0091-4de4-84ed-07940f7e0f62"
   },
   "outputs": [
    {
     "data": {
      "text/plain": [
       "0    229\n",
       "1    137\n",
       "Name: labels, dtype: int64"
      ]
     },
     "execution_count": 30,
     "metadata": {},
     "output_type": "execute_result"
    }
   ],
   "source": [
    "da_career[\"labels\"].value_counts()"
   ]
  },
  {
   "cell_type": "code",
   "execution_count": 31,
   "id": "8ab578e9",
   "metadata": {
    "colab": {
     "base_uri": "https://localhost:8080/"
    },
    "id": "8ab578e9",
    "outputId": "ed87805b-bfad-4b49-d59a-36b169697ff0"
   },
   "outputs": [
    {
     "data": {
      "text/plain": [
       "0    179\n",
       "1     17\n",
       "Name: labels, dtype: int64"
      ]
     },
     "execution_count": 31,
     "metadata": {},
     "output_type": "execute_result"
    }
   ],
   "source": [
    "da_vlog[\"labels\"].value_counts()"
   ]
  },
  {
   "cell_type": "code",
   "execution_count": 32,
   "id": "f65f955d",
   "metadata": {
    "id": "f65f955d"
   },
   "outputs": [],
   "source": [
    "mean_housewife = round(np.mean(da_housewife[\"labels\"]), 2)\n",
    "sd_housewife = round(np.std(da_housewife[\"labels\"]), 2)\n",
    "\n",
    "mean_career = round(np.mean(da_career[\"labels\"]), 2)\n",
    "sd_career = round(np.std(da_career[\"labels\"]), 2)\n",
    "\n",
    "mean_vlog = round(np.mean(da_vlog[\"labels\"]), 2)\n",
    "sd_vlog = round(np.std(da_vlog[\"labels\"]), 2)"
   ]
  },
  {
   "cell_type": "code",
   "execution_count": 33,
   "id": "2da5e889",
   "metadata": {
    "colab": {
     "base_uri": "https://localhost:8080/"
    },
    "id": "2da5e889",
    "outputId": "b20840ab-7fd5-4049-ad72-b8ab2b0f94c6"
   },
   "outputs": [
    {
     "name": "stdout",
     "output_type": "stream",
     "text": [
      "Based on this ANOVA test, there is a statistically significant differences among the depression level ofthe group of housewives (M = 0.16, SD = 0.37), career women (M = 0.37, SD = 0.48),and daily vlogs(M = 0.09, SD = 0.28), F = 38.1657, p = 0.0.Therefore, the null hypothesis can be rejected.\n"
     ]
    }
   ],
   "source": [
    "#perform one-way ANOVA test\n",
    "alpha = 0.05\n",
    "\n",
    "F_statistic, p_value = f_oneway(da_housewife[\"labels\"], da_career[\"labels\"], da_vlog[\"labels\"])\n",
    "\n",
    "F_statistic = round(F_statistic,4)\n",
    "p_value = round(p_value,4)\n",
    "\n",
    "if p_value < alpha:\n",
    "    print(f\"Based on this ANOVA test, there is a statistically significant differences among the depression level of\"\n",
    "          f\"the group of housewives (M = {mean_housewife}, SD = {sd_housewife}), career women (M = {mean_career}, SD = {sd_career}),\"\n",
    "          f\"and daily vlogs(M = {mean_vlog}, SD = {sd_vlog}), F = {F_statistic}, p = {p_value}.\"\n",
    "          \"Therefore, the null hypothesis can be rejected.\")\n",
    "else:\n",
    "    print(f\"Based on this ANOVA test, there is no statistically significant differences among the depression level of\"\n",
    "          f\"the group of housewives (M = {mean_housewife}, SD = {sd_housewife}), career women (M = {mean_career}, SD = {sd_career}),\"\n",
    "          f\"and daily vlogs(M = {mean_vlog}, SD = {sd_vlog}), F = {F_statistic}, p = {p_value}.\"\n",
    "          \"Therefore, the null hypothesis can be retained.\")"
   ]
  },
  {
   "cell_type": "code",
   "execution_count": 34,
   "id": "5621579c",
   "metadata": {
    "colab": {
     "base_uri": "https://localhost:8080/",
     "height": 472
    },
    "id": "5621579c",
    "outputId": "a1590ceb-e949-44fc-b0c4-da37cde795a7"
   },
   "outputs": [
    {
     "data": {
      "image/png": "[encoded data removed]",
      "text/plain": [
       "<Figure size 640x480 with 1 Axes>"
      ]
     },
     "metadata": {},
     "output_type": "display_data"
    }
   ],
   "source": [
    "#visualize the depression predictions\n",
    "#the code in this cell was adapted from: https://matplotlib.org/stable/api/_as_gen/matplotlib.pyplot.subplots.html\n",
    "#and https://stackoverflow.com/questions/56076590/plotting-multiple-bars-with-matplotlib-using-ax-bar\n",
    "\n",
    "housewife_counts = da_housewife['labels'].value_counts().sort_index()\n",
    "career_counts = da_career['labels'].value_counts().sort_index()\n",
    "vlog_counts = da_vlog['labels'].value_counts().sort_index()\n",
    "\n",
    "counts_0 = [housewife_counts[0], career_counts[0], vlog_counts[0]]\n",
    "counts_1 = [housewife_counts[1], career_counts[1], vlog_counts[1]]\n",
    "\n",
    "label_list = [\"housewife\", \"career woman\", \"vlog\"]\n",
    "\n",
    "fig, ax = plt.subplots()\n",
    "bar_width = 0.4\n",
    "\n",
    "bar0 = ax.bar(label_list, counts_0, bar_width, label = 'no depression')\n",
    "bar1 = ax.bar(label_list, counts_1, bar_width, bottom = counts_0, label = 'depression')\n",
    "\n",
    "plt.title(\"Detection of depression among all groups\")\n",
    "plt.xlabel(\"Hashtags\")\n",
    "plt.ylabel(\"Counts\")\n",
    "plt.legend()\n",
    "plt.show()"
   ]
  },
  {
   "cell_type": "markdown",
   "id": "d7a41fc6",
   "metadata": {
    "id": "d7a41fc6"
   },
   "source": [
    "## 3. Visual analysis"
   ]
  },
  {
   "cell_type": "markdown",
   "id": "H0-tXanIlC7_",
   "metadata": {
    "id": "H0-tXanIlC7_"
   },
   "source": [
    "In this part, a visual analysis to detect emotions in videos was conducted. First, images of human faces were identified and downloaded as new files from the videos. Then, a facial expression model using CNN was used to identify the emotions of each face shot.\n",
    "<br>\n",
    "Due to limitations in computational resources, this part was not scaled up and only detected around 10 videos. However, the code proved that it is feasible."
   ]
  },
  {
   "cell_type": "markdown",
   "id": "f7f362f1",
   "metadata": {
    "id": "f7f362f1"
   },
   "source": [
    "### 3.1 Collect faceshots from videos"
   ]
  },
  {
   "cell_type": "code",
   "execution_count": 35,
   "id": "504ad627",
   "metadata": {
    "colab": {
     "base_uri": "https://localhost:8080/",
     "height": 206
    },
    "id": "504ad627",
    "outputId": "76916334-0486-4441-d77b-16a290ac0bc2"
   },
   "outputs": [
    {
     "data": {
      "text/html": [
       "<div>\n",
       "<style scoped>\n",
       "    .dataframe tbody tr th:only-of-type {\n",
       "        vertical-align: middle;\n",
       "    }\n",
       "\n",
       "    .dataframe tbody tr th {\n",
       "        vertical-align: top;\n",
       "    }\n",
       "\n",
       "    .dataframe thead th {\n",
       "        text-align: right;\n",
       "    }\n",
       "</style>\n",
       "<table border=\"1\" class=\"dataframe\">\n",
       "  <thead>\n",
       "    <tr style=\"text-align: right;\">\n",
       "      <th></th>\n",
       "      <th>video_id</th>\n",
       "      <th>url</th>\n",
       "    </tr>\n",
       "  </thead>\n",
       "  <tbody>\n",
       "    <tr>\n",
       "      <th>0</th>\n",
       "      <td>XDa9aoFhggE</td>\n",
       "      <td>https://www.youtube.com/watch?v=XDa9aoFhggE</td>\n",
       "    </tr>\n",
       "    <tr>\n",
       "      <th>1</th>\n",
       "      <td>kx9absNabic</td>\n",
       "      <td>https://www.youtube.com/watch?v=kx9absNabic</td>\n",
       "    </tr>\n",
       "    <tr>\n",
       "      <th>2</th>\n",
       "      <td>X8Yc7HgOBn4</td>\n",
       "      <td>https://www.youtube.com/watch?v=X8Yc7HgOBn4</td>\n",
       "    </tr>\n",
       "    <tr>\n",
       "      <th>3</th>\n",
       "      <td>XSoDA-aQemY</td>\n",
       "      <td>https://www.youtube.com/watch?v=XSoDA-aQemY</td>\n",
       "    </tr>\n",
       "    <tr>\n",
       "      <th>4</th>\n",
       "      <td>KTuAQxp9IHQ</td>\n",
       "      <td>https://www.youtube.com/watch?v=KTuAQxp9IHQ</td>\n",
       "    </tr>\n",
       "  </tbody>\n",
       "</table>\n",
       "</div>"
      ],
      "text/plain": [
       "      video_id                                          url\n",
       "0  XDa9aoFhggE  https://www.youtube.com/watch?v=XDa9aoFhggE\n",
       "1  kx9absNabic  https://www.youtube.com/watch?v=kx9absNabic\n",
       "2  X8Yc7HgOBn4  https://www.youtube.com/watch?v=X8Yc7HgOBn4\n",
       "3  XSoDA-aQemY  https://www.youtube.com/watch?v=XSoDA-aQemY\n",
       "4  KTuAQxp9IHQ  https://www.youtube.com/watch?v=KTuAQxp9IHQ"
      ]
     },
     "execution_count": 35,
     "metadata": {},
     "output_type": "execute_result"
    }
   ],
   "source": [
    "#use videos from the hashtag og housewife as a sample\n",
    "videoid = pd.read_csv(\"video_ids_housewife.csv\")\n",
    "videoid.head()"
   ]
  },
  {
   "cell_type": "code",
   "execution_count": 36,
   "id": "5b736b10",
   "metadata": {
    "colab": {
     "base_uri": "https://localhost:8080/"
    },
    "id": "5b736b10",
    "outputId": "9d6b8c5c-655d-46f0-c683-eb522f602223"
   },
   "outputs": [
    {
     "name": "stdout",
     "output_type": "stream",
     "text": [
      "Video was downloaded from https://www.youtube.com/watch?v=XDa9aoFhggE.\n",
      "Video was downloaded from https://www.youtube.com/watch?v=kx9absNabic.\n",
      "Video was downloaded from https://www.youtube.com/watch?v=X8Yc7HgOBn4.\n",
      "Video cannot be downloaded from https://www.youtube.com/watch?v=XSoDA-aQemY: 'NoneType' object has no attribute 'download'.\n",
      "Video was downloaded from https://www.youtube.com/watch?v=KTuAQxp9IHQ.\n",
      "Video cannot be downloaded from https://www.youtube.com/watch?v=g0D2YVYprhs: g0D2YVYprhs is age restricted, and can't be accessed without logging in..\n",
      "Video cannot be downloaded from https://www.youtube.com/watch?v=JeMIY2ELKAY: JeMIY2ELKAY is age restricted, and can't be accessed without logging in..\n",
      "Video cannot be downloaded from https://www.youtube.com/watch?v=8zR6SlxBH-E: 8zR6SlxBH-E is age restricted, and can't be accessed without logging in..\n",
      "Video was downloaded from https://www.youtube.com/watch?v=hDJ6IHRcNM0.\n",
      "Video was downloaded from https://www.youtube.com/watch?v=IKAbTQ6YmUM.\n"
     ]
    }
   ],
   "source": [
    "#download 10 videos from the dataset\n",
    "#The code in this cell was adapted from: https://github.com/pytube/pytube\n",
    "os.makedirs(\"videos\", exist_ok=True)\n",
    "\n",
    "urls = videoid[\"url\"].head(10)\n",
    "\n",
    "for url in urls:\n",
    "    try:\n",
    "        yt = YouTube(url)\n",
    "        stream = yt.streams.filter(progressive=True, file_extension='mp4').order_by('resolution').desc().first()\n",
    "        stream.download(\"videos\")\n",
    "        print(f\"Video was downloaded from {url}.\")\n",
    "    except Exception as e:\n",
    "        print(f\"Video cannot be downloaded from {url}: {e}.\")"
   ]
  },
  {
   "cell_type": "code",
   "execution_count": null,
   "id": "f00b0dea",
   "metadata": {
    "colab": {
     "base_uri": "https://localhost:8080/"
    },
    "id": "f00b0dea",
    "outputId": "38cc7ed6-be58-4057-f155-ada521ed8c52"
   },
   "outputs": [],
   "source": [
    "#define a function to identify humans' face and download pictures\n",
    "#The code in this cell was copied from: https://github.com/Smarangk13/youtubeFaceFinder/blob/master/faceshot.py\n",
    "#The file 'face.xml' was also downloaded from: https://github.com/Smarangk13/youtubeFaceFinder/blob/master/faceshot.py\n",
    "class FaceFinder:\n",
    "    def __init__(self):\n",
    "        self.face_cascade = cv2.CascadeClassifier('face.xml')\n",
    "\n",
    "    def isFaceVideo(self, video_path, facesNeed=5, sleeptime=5):\n",
    "        cap = cv2.VideoCapture(video_path)\n",
    "        print(\"Opened Video:\", video_path)\n",
    "\n",
    "        faceFound = 0\n",
    "        while(cap.isOpened()):\n",
    "            ret, frame = cap.read()\n",
    "            if not ret:\n",
    "                break\n",
    "\n",
    "            gray = cv2.cvtColor(frame, cv2.COLOR_BGR2GRAY)\n",
    "            faces = self.face_cascade.detectMultiScale(gray, 1.1, 5)\n",
    "\n",
    "            for (x, y, w, h) in faces:\n",
    "                faceFound += 1\n",
    "                filename = f\"faceshot/face_{uuid.uuid4()}.jpeg\"\n",
    "                cv2.imwrite(filename, frame[y:y+h, x:x+w])\n",
    "                print(\"Face Found:\", filename)\n",
    "                time.sleep(sleeptime)\n",
    "\n",
    "                if faceFound >= facesNeed:\n",
    "                    cap.release()\n",
    "                    cv2.destroyAllWindows()\n",
    "                    return\n",
    "\n",
    "        cap.release()\n",
    "        cv2.destroyAllWindows()\n",
    "        return\n",
    "\n",
    "if __name__ == \"__main__\":\n",
    "    face_finder = FaceFinder()\n",
    "    videos_folder = \"videos\"\n",
    "    faces_folder = \"faceshot\"\n",
    "\n",
    "    os.makedirs(faces_folder, exist_ok=True)\n",
    "\n",
    "    for filename in os.listdir(videos_folder):\n",
    "        if filename.endswith(\".mp4\") or filename.endswith(\".avi\") or filename.endswith(\".webm\"):\n",
    "            video_path = os.path.join(videos_folder, filename)\n",
    "            face_finder.isFaceVideo(video_path)\n"
   ]
  },
  {
   "cell_type": "markdown",
   "id": "1a599fce",
   "metadata": {
    "id": "1a599fce"
   },
   "source": [
    "### 3.2 Facial expression detection using CNN"
   ]
  },
  {
   "cell_type": "markdown",
   "id": "4551630d",
   "metadata": {
    "id": "4551630d"
   },
   "source": [
    "In this part, CNN was used to detect the facial expressions of the faceshots collected from the video dataset of housewives. <br>\n",
    "The labeled dataset \"fer2013.csv\" was downloaded from: https://www.kaggle.com/c/challenges-in-representation-learning-facial-expression-recognition-challenge/data <br>\n",
    "However, due to the limitations of GPU and time, this part did not use the completed labeled dataset but instead a shortened version \"fer2013_shortened_300.csv\" downloaded from: https://github.com/patryk-oleniuk/emotion_recognition/blob/master/emotion_recognition_Oleniuk_Galotta_v2.ipynb <br>\n",
    "The code in this part was adapted from: https://www.kaggle.com/code/shawon10/facial-expression-detection-cnn/notebook"
   ]
  },
  {
   "cell_type": "code",
   "execution_count": 38,
   "id": "abe0b1f3",
   "metadata": {
    "colab": {
     "base_uri": "https://localhost:8080/",
     "height": 206
    },
    "id": "abe0b1f3",
    "outputId": "cfb64941-a735-4354-f131-70917bd2d68b"
   },
   "outputs": [
    {
     "data": {
      "text/html": [
       "<div>\n",
       "<style scoped>\n",
       "    .dataframe tbody tr th:only-of-type {\n",
       "        vertical-align: middle;\n",
       "    }\n",
       "\n",
       "    .dataframe tbody tr th {\n",
       "        vertical-align: top;\n",
       "    }\n",
       "\n",
       "    .dataframe thead th {\n",
       "        text-align: right;\n",
       "    }\n",
       "</style>\n",
       "<table border=\"1\" class=\"dataframe\">\n",
       "  <thead>\n",
       "    <tr style=\"text-align: right;\">\n",
       "      <th></th>\n",
       "      <th>emotion</th>\n",
       "      <th>pixels</th>\n",
       "      <th>usage</th>\n",
       "    </tr>\n",
       "  </thead>\n",
       "  <tbody>\n",
       "    <tr>\n",
       "      <th>0</th>\n",
       "      <td>0</td>\n",
       "      <td>70 80 82 72 58 58 60 63 54 58 60 48 89 115 121...</td>\n",
       "      <td>Training</td>\n",
       "    </tr>\n",
       "    <tr>\n",
       "      <th>1</th>\n",
       "      <td>0</td>\n",
       "      <td>151 150 147 155 148 133 111 140 170 174 182 15...</td>\n",
       "      <td>Training</td>\n",
       "    </tr>\n",
       "    <tr>\n",
       "      <th>2</th>\n",
       "      <td>2</td>\n",
       "      <td>231 212 156 164 174 138 161 173 182 200 106 38...</td>\n",
       "      <td>Training</td>\n",
       "    </tr>\n",
       "    <tr>\n",
       "      <th>3</th>\n",
       "      <td>4</td>\n",
       "      <td>24 32 36 30 32 23 19 20 30 41 21 22 32 34 21 1...</td>\n",
       "      <td>Training</td>\n",
       "    </tr>\n",
       "    <tr>\n",
       "      <th>4</th>\n",
       "      <td>6</td>\n",
       "      <td>4 0 0 0 0 0 0 0 0 0 0 0 3 15 23 28 48 50 58 84...</td>\n",
       "      <td>Training</td>\n",
       "    </tr>\n",
       "  </tbody>\n",
       "</table>\n",
       "</div>"
      ],
      "text/plain": [
       "   emotion                                             pixels     usage\n",
       "0        0  70 80 82 72 58 58 60 63 54 58 60 48 89 115 121...  Training\n",
       "1        0  151 150 147 155 148 133 111 140 170 174 182 15...  Training\n",
       "2        2  231 212 156 164 174 138 161 173 182 200 106 38...  Training\n",
       "3        4  24 32 36 30 32 23 19 20 30 41 21 22 32 34 21 1...  Training\n",
       "4        6  4 0 0 0 0 0 0 0 0 0 0 0 3 15 23 28 48 50 58 84...  Training"
      ]
     },
     "execution_count": 38,
     "metadata": {},
     "output_type": "execute_result"
    }
   ],
   "source": [
    "#get the data\n",
    "#to use the completed train dataset, please replace filename by 'fer2013.csv'\n",
    "filename = 'fer2013_shortened_300.csv'\n",
    "label_map = ['Anger', 'Disgust', 'Fear', 'Happy', 'Sad', 'Surprise', 'Neutral']\n",
    "names =['emotion','pixels','usage']\n",
    "df = pd.read_csv(filename, names  =names, na_filter=False)\n",
    "im = df['pixels']\n",
    "df.head()"
   ]
  },
  {
   "cell_type": "code",
   "execution_count": 39,
   "id": "109d67fe",
   "metadata": {
    "colab": {
     "base_uri": "https://localhost:8080/"
    },
    "id": "109d67fe",
    "outputId": "1f858de5-f373-4c1f-ab30-785b46a218e7"
   },
   "outputs": [
    {
     "data": {
      "text/plain": [
       "(300, 3)"
      ]
     },
     "execution_count": 39,
     "metadata": {},
     "output_type": "execute_result"
    }
   ],
   "source": [
    "df.shape"
   ]
  },
  {
   "cell_type": "code",
   "execution_count": 40,
   "id": "0ee22b7a",
   "metadata": {
    "id": "0ee22b7a"
   },
   "outputs": [],
   "source": [
    "#read image data and labels\n",
    "def getData(filename):\n",
    "    Y = []\n",
    "    X = []\n",
    "    first = True\n",
    "    for line in open(filename):\n",
    "        if first:\n",
    "            first = False\n",
    "        else:\n",
    "            row = line.split(',')\n",
    "            Y.append(int(row[0]))\n",
    "            X.append([int(p) for p in row[1].split()])\n",
    "\n",
    "    X, Y = np.array(X) / 255.0, np.array(Y)\n",
    "    return X, Y"
   ]
  },
  {
   "cell_type": "code",
   "execution_count": 41,
   "id": "86088728",
   "metadata": {
    "colab": {
     "base_uri": "https://localhost:8080/"
    },
    "id": "86088728",
    "outputId": "366ca9d0-083a-4c5a-c9d9-2032f4df5103"
   },
   "outputs": [
    {
     "name": "stdout",
     "output_type": "stream",
     "text": [
      "7\n"
     ]
    }
   ],
   "source": [
    "X, Y = getData(filename)\n",
    "num_class = len(set(Y))\n",
    "print(num_class)"
   ]
  },
  {
   "cell_type": "code",
   "execution_count": 42,
   "id": "bd6b99d3",
   "metadata": {
    "id": "bd6b99d3"
   },
   "outputs": [],
   "source": [
    "#calculate the shape of the array and reshape it\n",
    "N, D = X.shape\n",
    "X = X.reshape(N, 48, 48, 1)"
   ]
  },
  {
   "cell_type": "code",
   "execution_count": 43,
   "id": "8972a199",
   "metadata": {
    "id": "8972a199"
   },
   "outputs": [],
   "source": [
    "#split the dataset\n",
    "X_train, X_test, y_train, y_test = train_test_split(X, Y, test_size=0.1, random_state=0)\n",
    "y_train = (np.arange(num_class) == y_train[:, None]).astype(np.float32)\n",
    "y_test = (np.arange(num_class) == y_test[:, None]).astype(np.float32)"
   ]
  },
  {
   "cell_type": "code",
   "execution_count": 44,
   "id": "6a6f7a62",
   "metadata": {
    "colab": {
     "base_uri": "https://localhost:8080/"
    },
    "id": "6a6f7a62",
    "outputId": "52ba8daa-9485-4ed8-83ab-b261ef39b765"
   },
   "outputs": [
    {
     "name": "stdout",
     "output_type": "stream",
     "text": [
      "Model: \"sequential\"\n",
      "_________________________________________________________________\n",
      " Layer (type)                Output Shape              Param #   \n",
      "=================================================================\n",
      " conv2d (Conv2D)             (None, 48, 48, 64)        1664      \n",
      "                                                                 \n",
      " conv2d_1 (Conv2D)           (None, 48, 48, 64)        102464    \n",
      "                                                                 \n",
      " batch_normalization (Batch  (None, 48, 48, 64)        256       \n",
      " Normalization)                                                  \n",
      "                                                                 \n",
      " max_pooling2d (MaxPooling2  (None, 24, 24, 64)        0         \n",
      " D)                                                              \n",
      "                                                                 \n",
      " conv2d_2 (Conv2D)           (None, 24, 24, 128)       204928    \n",
      "                                                                 \n",
      " conv2d_3 (Conv2D)           (None, 24, 24, 128)       409728    \n",
      "                                                                 \n",
      " batch_normalization_1 (Bat  (None, 24, 24, 128)       512       \n",
      " chNormalization)                                                \n",
      "                                                                 \n",
      " max_pooling2d_1 (MaxPoolin  (None, 12, 12, 128)       0         \n",
      " g2D)                                                            \n",
      "                                                                 \n",
      " conv2d_4 (Conv2D)           (None, 12, 12, 256)       295168    \n",
      "                                                                 \n",
      " conv2d_5 (Conv2D)           (None, 12, 12, 256)       590080    \n",
      "                                                                 \n",
      " batch_normalization_2 (Bat  (None, 12, 12, 256)       1024      \n",
      " chNormalization)                                                \n",
      "                                                                 \n",
      " max_pooling2d_2 (MaxPoolin  (None, 6, 6, 256)         0         \n",
      " g2D)                                                            \n",
      "                                                                 \n",
      " flatten (Flatten)           (None, 9216)              0         \n",
      "                                                                 \n",
      " dense (Dense)               (None, 128)               1179776   \n",
      "                                                                 \n",
      " batch_normalization_3 (Bat  (None, 128)               512       \n",
      " chNormalization)                                                \n",
      "                                                                 \n",
      " activation (Activation)     (None, 128)               0         \n",
      "                                                                 \n",
      " dropout (Dropout)           (None, 128)               0         \n",
      "                                                                 \n",
      " dense_1 (Dense)             (None, 7)                 903       \n",
      "                                                                 \n",
      " activation_1 (Activation)   (None, 7)                 0         \n",
      "                                                                 \n",
      "=================================================================\n",
      "Total params: 2787015 (10.63 MB)\n",
      "Trainable params: 2785863 (10.63 MB)\n",
      "Non-trainable params: 1152 (4.50 KB)\n",
      "_________________________________________________________________\n"
     ]
    }
   ],
   "source": [
    "#define a CNN model to classify images\n",
    "def my_model():\n",
    "    model = Sequential()\n",
    "    input_shape = (48,48,1)\n",
    "    model.add(Conv2D(64, (5, 5), input_shape=input_shape,activation='relu', padding='same'))\n",
    "    model.add(Conv2D(64, (5, 5), activation='relu', padding='same'))\n",
    "    model.add(BatchNormalization())\n",
    "    model.add(MaxPooling2D(pool_size=(2, 2)))\n",
    "\n",
    "    model.add(Conv2D(128, (5, 5),activation='relu',padding='same'))\n",
    "    model.add(Conv2D(128, (5, 5),activation='relu',padding='same'))\n",
    "    model.add(BatchNormalization())\n",
    "    model.add(MaxPooling2D(pool_size=(2, 2)))\n",
    "\n",
    "    model.add(Conv2D(256, (3, 3),activation='relu',padding='same'))\n",
    "    model.add(Conv2D(256, (3, 3),activation='relu',padding='same'))\n",
    "    model.add(BatchNormalization())\n",
    "    model.add(MaxPooling2D(pool_size=(2, 2)))\n",
    "\n",
    "    model.add(Flatten())\n",
    "    model.add(Dense(128))\n",
    "    model.add(BatchNormalization())\n",
    "    model.add(Activation('relu'))\n",
    "    model.add(Dropout(0.2))\n",
    "    model.add(Dense(7))\n",
    "    model.add(Activation('softmax'))\n",
    "\n",
    "    model.compile(loss='categorical_crossentropy', metrics=['accuracy'],optimizer='adam')\n",
    "\n",
    "    return model\n",
    "model=my_model()\n",
    "model.summary()"
   ]
  },
  {
   "cell_type": "code",
   "execution_count": null,
   "id": "-nhNGkWtd2kc",
   "metadata": {
    "colab": {
     "base_uri": "https://localhost:8080/"
    },
    "id": "-nhNGkWtd2kc",
    "outputId": "28cb2813-687a-4d41-9b31-cbb917f1859d"
   },
   "outputs": [
    {
     "name": "stdout",
     "output_type": "stream",
     "text": [
      "Epoch 1/20\n",
      "2/5 [===========>..................] - ETA: 6s - loss: 2.3354 - accuracy: 0.1875 "
     ]
    }
   ],
   "source": [
    "path_model = 'model_filter.h5'  #save model at this location after each epoch\n",
    "keras.backend.clear_session()  #destroys the current graph and builds a new one\n",
    "model = my_model()  # create the model\n",
    "K.set_value(model.optimizer.lr, 1e-3)  #set the learning rate\n",
    "\n",
    "#fit the model\n",
    "h = model.fit(x=X_train,\n",
    "              y=y_train,\n",
    "              batch_size=64,\n",
    "              epochs=20,\n",
    "              verbose=1,\n",
    "              validation_data=(X_test, y_test),\n",
    "              shuffle=True,\n",
    "              callbacks=[\n",
    "                  ModelCheckpoint(filepath=path_model),\n",
    "              ]\n",
    "              )\n",
    "\n",
    "#save the model\n",
    "save_model(model, 'my_model.keras')"
   ]
  },
  {
   "cell_type": "code",
   "execution_count": null,
   "id": "1e6499ec",
   "metadata": {
    "colab": {
     "base_uri": "https://localhost:8080/"
    },
    "id": "1e6499ec",
    "outputId": "7c01b1c8-fc7e-455a-b9a1-4543631da046"
   },
   "outputs": [],
   "source": [
    "objects = ('angry', 'disgust', 'fear', 'happy', 'sad', 'surprise', 'neutral')\n",
    "y_pos = np.arange(len(objects))\n",
    "print(y_pos)"
   ]
  },
  {
   "cell_type": "code",
   "execution_count": null,
   "id": "8de45282",
   "metadata": {
    "colab": {
     "base_uri": "https://localhost:8080/"
    },
    "id": "8de45282",
    "outputId": "5b17d049-f733-4b1d-a5f5-291ca779a02d"
   },
   "outputs": [],
   "source": [
    "y_pred = model.predict(X_test)\n",
    "y_test.shape"
   ]
  },
  {
   "cell_type": "code",
   "execution_count": null,
   "id": "db01760d",
   "metadata": {},
   "outputs": [],
   "source": [
    "#predict the emotions of pictures in the file of faceshot\n",
    "def predict_emotion(model, img_path):\n",
    "    img = image.load_img(img_path, color_mode=\"grayscale\", target_size=(48, 48))\n",
    "    x = image.img_to_array(img)\n",
    "    x = np.expand_dims(x, axis=0)\n",
    "    x /= 255.0\n",
    "\n",
    "    custom = model.predict(x)\n",
    "    emotion_index = np.argmax(custom[0])\n",
    "\n",
    "    return emotion_index\n",
    "\n",
    "model = my_model()\n",
    "folder_path = 'faceshot'\n",
    "emotion_labels = ['Angry', 'Disgust', 'Fear', 'Happy', 'Sad', 'Surprise', 'Neutral']\n",
    "emotion_counts = {label: 0 for label in emotion_labels}\n",
    "\n",
    "#count the number of each predicted emotion\n",
    "for filename in os.listdir(folder_path):\n",
    "    if filename.endswith('.jpeg'):\n",
    "        img_path = os.path.join(folder_path, filename)\n",
    "        emotion_index = predict_emotion(model, img_path)\n",
    "        predicted_emotion = emotion_labels[emotion_index]\n",
    "        emotion_counts[predicted_emotion] += 1\n",
    "\n",
    "#calculate and print the percentage of each predicted emotion\n",
    "total_images = sum(emotion_counts.values())\n",
    "for emotion_label in emotion_labels:\n",
    "    if total_images > 0:\n",
    "        percentage = round(emotion_counts[emotion_label] / total_images * 100, 3)\n",
    "        print(f\"Based on the predictions, {percentage}% of the faceshots were predicted as {emotion_label}.\")\n",
    "    else:\n",
    "        print(f\"No images found in the folder {folder_path}.\")\n"
   ]
  },
  {
   "cell_type": "code",
   "execution_count": null,
   "id": "3b825d3f",
   "metadata": {},
   "outputs": [],
   "source": []
  }
 ],
 "metadata": {
  "colab": {
   "provenance": []
  },
  "kernelspec": {
   "display_name": "Python 3 (ipykernel)",
   "language": "python",
   "name": "python3"
  },
  "language_info": {
   "codemirror_mode": {
    "name": "ipython",
    "version": 3
   },
   "file_extension": ".py",
   "mimetype": "text/x-python",
   "name": "python",
   "nbconvert_exporter": "python",
   "pygments_lexer": "ipython3",
   "version": "3.10.9"
  }
 },
 "nbformat": 4,
 "nbformat_minor": 5
}
